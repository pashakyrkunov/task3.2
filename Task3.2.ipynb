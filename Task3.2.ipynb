{
 "metadata": {
  "language_info": {
   "codemirror_mode": {
    "name": "ipython",
    "version": 3
   },
   "file_extension": ".py",
   "mimetype": "text/x-python",
   "name": "python",
   "nbconvert_exporter": "python",
   "pygments_lexer": "ipython3",
   "version": "3.9.0-final"
  },
  "orig_nbformat": 2,
  "kernelspec": {
   "name": "python3",
   "display_name": "Python 3.9.0 64-bit",
   "metadata": {
    "interpreter": {
     "hash": "02192680372bb7b984e1b9ef885d36903551b3fcba6090480fc68343d4bf5e06"
    }
   }
  }
 },
 "nbformat": 4,
 "nbformat_minor": 2,
 "cells": [
  {
   "cell_type": "code",
   "execution_count": 1,
   "metadata": {},
   "outputs": [],
   "source": [
    "import pandas as pd\n",
    "import numpy as np\n",
    "import math\n",
    "import json\n",
    "import requests\n",
    "from SPARQLWrapper import SPARQLWrapper, JSON"
   ]
  },
  {
   "cell_type": "code",
   "execution_count": 2,
   "metadata": {
    "tags": []
   },
   "outputs": [
    {
     "output_type": "stream",
     "name": "stdout",
     "text": [
      "    Movie 1  Movie 2  Movie 3  Movie 4  Movie 5  Movie 6  Movie 7  Movie 8  \\\n0        -1        4        1        5       -1       -1       -1        1   \n1         4        5        2        3        3        4       -1        5   \n2         4        2        5        4        1        5       -1        3   \n3         5       -1        2       -1       -1        2        4        3   \n4         4        3        3        3        5        3        3        4   \n5         2       -1        3        3        3        3        4        2   \n6         4        1        4        4        1        4        5        2   \n7        -1        5        5        3        3        3        3        3   \n8         1        2        3        1        5        3        3        1   \n9         5       -1        1       -1        3        3        4        1   \n10       -1        5       -1        1        5        2        4        2   \n11        5        4        4       -1        3       -1        5        5   \n12        1        1        4        5        4        3        5        5   \n13        3        5        4       -1        1        2        4       -1   \n14        3        5        3        4        4       -1        4        4   \n15        3        3        5        3        2        2        5       -1   \n16        1        1       -1       -1        4        4       -1       -1   \n17        4        3        3        2        1        5        3        4   \n18        4        3        5        5        4        4       -1       -1   \n19        2       -1        2        5       -1       -1        1       -1   \n20       -1        2        1        2        3        5        4        1   \n21        2        4        4       -1        4       -1        4        5   \n22        5        1       -1        5        5       -1       -1        5   \n23        5        4        2       -1        2        1        3        2   \n24        3        1       -1        4        2       -1        4        1   \n25        1        5       -1        3       -1        2        4       -1   \n26        4        4        3       -1        4        5        3        4   \n27       -1       -1        4        2        3        2        1        4   \n28        3        2        4        2        2        2        4        1   \n29        2        3        5        4        1        3        3        2   \n30        3        5        4        5        1        3        3        3   \n31        5        4        5        4        1        5        5        4   \n32        5        3        4        4        2        1        3        1   \n33       -1        5       -1       -1        1       -1        5        1   \n34        4       -1        5        4        2        2        3        1   \n35        3        2       -1        5        5        1        5        2   \n36       -1        4       -1        3        1        4        5        4   \n37        3       -1        1        4        2        3        4       -1   \n38        1       -1        5       -1        1        2        3       -1   \n39       -1        1        1        1        1       -1        4        1   \n\n    Movie 9  Movie 10  ...  Movie 21  Movie 22  Movie 23  Movie 24  Movie 25  \\\n0         3        -1  ...         2         4        -1        -1         3   \n1         3         2  ...        -1         2        -1         3         1   \n2         5         2  ...         4        -1         5         4         5   \n3         2         3  ...        -1         2         2         2         2   \n4         5         2  ...         4         5         2        -1         3   \n5        -1         1  ...         5        -1         1         3        -1   \n6         2        -1  ...         2         5         1         3         4   \n7         1         2  ...        -1         3         1         3         2   \n8         2         5  ...         3         2         3        -1         1   \n9         1         2  ...         4         1         4         1         4   \n10        4        -1  ...         4        -1         3         4         1   \n11        5         3  ...         1         4         1         5         3   \n12        5         4  ...         2         3         2        -1         4   \n13       -1         4  ...         4         1         5         4         1   \n14        2         1  ...         2         2         5         1         3   \n15        4         4  ...         1         3         4        -1         4   \n16        1         1  ...         4         2         4         2         2   \n17        5         2  ...        -1         4         5         2         1   \n18        4         4  ...         2         3         1         2        -1   \n19        2        -1  ...        -1         2         4         1        -1   \n20        2         3  ...        -1         5         1         2         5   \n21        5         4  ...         4         5         1        -1        -1   \n22       -1         3  ...        -1        -1         3         1         5   \n23        1         2  ...         4         2         2         1         3   \n24        5         3  ...         2        -1         5         5         2   \n25        4         2  ...         5         3         1         5         2   \n26        3        -1  ...        -1         3         4         3        -1   \n27       -1         1  ...         1         3         2         1         4   \n28        3         3  ...         3        -1         3         5         5   \n29        3         1  ...         4         5         1         1         4   \n30        4         1  ...         5         4         4         3         5   \n31        4        -1  ...         5         2        -1         2         3   \n32        3         3  ...         2         1         5         5         2   \n33        1         5  ...         3         3         4        -1         3   \n34        1         5  ...         5         1         2         1         5   \n35        1         5  ...        -1         2         4         3         4   \n36        3         3  ...         3         3        -1         5        -1   \n37        5         3  ...         5         4         3        -1         1   \n38        2         5  ...         4         2         5         2         3   \n39       -1         3  ...         3         5         4         2         3   \n\n    Movie 26  Movie 27  Movie 28  Movie 29  Movie 30  \n0          4        -1         2         4         1  \n1          5        -1         5         2         2  \n2          1         2         1        -1         3  \n3          5         3         2         5         5  \n4          5         1        -1         5        -1  \n5          4         4         5         1         2  \n6         -1         4         3         1         4  \n7          1         4        -1         1         3  \n8          4         3         1         5         3  \n9          5         2         3        -1         1  \n10         2         4         2         5         1  \n11         5         4         3         5         5  \n12         3        -1         5         5         4  \n13        -1         3         1         5         3  \n14         4        -1        -1         5         4  \n15         4         4         2         4         4  \n16        -1         5         4         5         3  \n17         1         2         1        -1         4  \n18         2         5         1         2         1  \n19         2         2         3         3         4  \n20         5         4         4         2        -1  \n21         5         2         2         5        -1  \n22        -1         1         5         3         5  \n23         2         5         2         5         4  \n24        -1         1         3         1         2  \n25        -1         2         2         4        -1  \n26         3         2         3         2         5  \n27         3         2         4         2         1  \n28         5         4        -1         5        -1  \n29         5         3         1         3         5  \n30         2         2         4         4        -1  \n31         2         1         3         1        -1  \n32        -1         2         1         4         2  \n33         1         5         2         2         5  \n34         5         1        -1         5         5  \n35         5         2         1         3         4  \n36         5         2         3         5        -1  \n37         4         3        -1        -1         4  \n38         1         2         1         2         1  \n39         4         5         5         3         2  \n\n[40 rows x 30 columns]\n"
     ]
    }
   ],
   "source": [
    "data = pd.read_csv('data.csv', delimiter=', ')\n",
    "data = data.drop(columns=[data.columns[0]])\n",
    "df_day = pd.read_csv('context_day.csv', delimiter=', ')\n",
    "df_day = df_day.drop(columns=[df_day.columns[0]])\n",
    "df_place = pd.read_csv('context_place.csv', delimiter=', ')\n",
    "df_place = df_place.drop(columns=[df_place.columns[0]])\n",
    "users = data.index.tolist()\n",
    "#т.к. удаляю столбец для более удобного форматирования данных, нумерация юзеров сдвигается на -1\n",
    "my_user_number = 19\n",
    "no_rate = -1\n",
    "home = 'h'\n",
    "saturday = 'Sat'\n",
    "sunday = 'Sun'\n",
    "print(data)"
   ]
  },
  {
   "cell_type": "code",
   "execution_count": 3,
   "metadata": {},
   "outputs": [
    {
     "output_type": "stream",
     "name": "stdout",
     "text": [
      "          0   1   2   3   4   5   6   7   8   9   ...  30  31  32  33  34  35  \\\nMovie 1   -1   4   4   5   4   2   4  -1   1   5  ...   3   5   5  -1   4   3   \nMovie 2    4   5   2  -1   3  -1   1   5   2  -1  ...   5   4   3   5  -1   2   \nMovie 3    1   2   5   2   3   3   4   5   3   1  ...   4   5   4  -1   5  -1   \nMovie 4    5   3   4  -1   3   3   4   3   1  -1  ...   5   4   4  -1   4   5   \nMovie 5   -1   3   1  -1   5   3   1   3   5   3  ...   1   1   2   1   2   5   \nMovie 6   -1   4   5   2   3   3   4   3   3   3  ...   3   5   1  -1   2   1   \nMovie 7   -1  -1  -1   4   3   4   5   3   3   4  ...   3   5   3   5   3   5   \nMovie 8    1   5   3   3   4   2   2   3   1   1  ...   3   4   1   1   1   2   \nMovie 9    3   3   5   2   5  -1   2   1   2   1  ...   4   4   3   1   1   1   \nMovie 10  -1   2   2   3   2   1  -1   2   5   2  ...   1  -1   3   5   5   5   \nMovie 11   5   2   1  -1   3   5   4  -1   1  -1  ...   2   4   5   3  -1   2   \nMovie 12   5  -1  -1  -1   2   5  -1   5   2   5  ...   3   1   4   2   2   4   \nMovie 13   1   5   1  -1  -1   5   3  -1   3   5  ...  -1   1   2   2   5   3   \nMovie 14   3   5   1  -1   5   3   2   5   4   1  ...   4   1  -1   2   4   4   \nMovie 15   3   4   1  -1   3   2   3   5  -1  -1  ...   2   1  -1   5  -1   3   \nMovie 16   3   1   1   5   2   5   1   4  -1   3  ...   1   1   1   3   2  -1   \nMovie 17  -1  -1   3   3   2   1  -1   4   4   2  ...  -1   2   1   4  -1  -1   \nMovie 18   4   2   3   3   3   4  -1  -1  -1   3  ...   1   5   4   3   3  -1   \nMovie 19   2   4   3   3   1   3   2   5   5   3  ...   3   5  -1  -1  -1   2   \nMovie 20   2   5  -1   3   5  -1   3   5   3   1  ...   2   4   2   3  -1  -1   \nMovie 21   2  -1   4  -1   4   5   2  -1   3   4  ...   5   5   2   3   5  -1   \nMovie 22   4   2  -1   2   5  -1   5   3   2   1  ...   4   2   1   3   1   2   \nMovie 23  -1  -1   5   2   2   1   1   1   3   4  ...   4  -1   5   4   2   4   \nMovie 24  -1   3   4   2  -1   3   3   3  -1   1  ...   3   2   5  -1   1   3   \nMovie 25   3   1   5   2   3  -1   4   2   1   4  ...   5   3   2   3   5   4   \nMovie 26   4   5   1   5   5   4  -1   1   4   5  ...   2   2  -1   1   5   5   \nMovie 27  -1  -1   2   3   1   4   4   4   3   2  ...   2   1   2   5   1   2   \nMovie 28   2   5   1   2  -1   5   3  -1   1   3  ...   4   3   1   2  -1   1   \nMovie 29   4   2  -1   5   5   1   1   1   5  -1  ...   4   1   4   2   5   3   \nMovie 30   1   2   3   5  -1   2   4   3   3   1  ...  -1  -1   2   5   5   4   \n\n          36  37  38  39  \nMovie 1   -1   3   1  -1  \nMovie 2    4  -1  -1   1  \nMovie 3   -1   1   5   1  \nMovie 4    3   4  -1   1  \nMovie 5    1   2   1   1  \nMovie 6    4   3   2  -1  \nMovie 7    5   4   3   4  \nMovie 8    4  -1  -1   1  \nMovie 9    3   5   2  -1  \nMovie 10   3   3   5   3  \nMovie 11   1   3   3   2  \nMovie 12   1  -1   1   3  \nMovie 13  -1   3   5   5  \nMovie 14   4   2  -1   3  \nMovie 15   5   4  -1   4  \nMovie 16   4   3   4   2  \nMovie 17   3   1   1   5  \nMovie 18   2   4   4   4  \nMovie 19   4   2   3   2  \nMovie 20   1   1   4   2  \nMovie 21   3   5   4   3  \nMovie 22   3   4   2   5  \nMovie 23  -1   3   5   4  \nMovie 24   5  -1   2   2  \nMovie 25  -1   1   3   3  \nMovie 26   5   4   1   4  \nMovie 27   2   3   2   5  \nMovie 28   3  -1   1   5  \nMovie 29   5  -1   2   3  \nMovie 30  -1   4   1   2  \n\n[30 rows x 40 columns]\nIndex(['Movie 2', 'Movie 5', 'Movie 6', 'Movie 8', 'Movie 10', 'Movie 17',\n       'Movie 21', 'Movie 25'],\n      dtype='object')\n"
     ]
    }
   ],
   "source": [
    "tr_data = data.transpose()\n",
    "#неоцененные фильмы\n",
    "not_rated_movies = tr_data[tr_data[my_user_number] == no_rate].index\n",
    "print(tr_data)\n",
    "print(not_rated_movies)"
   ]
  },
  {
   "cell_type": "code",
   "execution_count": 4,
   "metadata": {
    "tags": []
   },
   "outputs": [
    {
     "output_type": "stream",
     "name": "stdout",
     "text": [
      "{16: 0.899, 22: 0.888, 7: 0.88, 27: 0.879}\n"
     ]
    }
   ],
   "source": [
    "#поиск sim\n",
    "sims = {}\n",
    "for col in tr_data:\n",
    "    if(col == my_user_number):\n",
    "        continue\n",
    "    two_users_rates = data.transpose()[[col, my_user_number]]\n",
    "    two_users_rates = two_users_rates[(two_users_rates[col] != no_rate) & (two_users_rates[my_user_number] != no_rate)]\n",
    "    numerator = 0\n",
    "    u_sum = 0\n",
    "    v_sum = 0\n",
    "    denominator = 0\n",
    "    for i in range(0, two_users_rates.shape[0]):\n",
    "        u = two_users_rates.iloc[i][col]\n",
    "        v = two_users_rates.iloc[i][my_user_number]\n",
    "        numerator += u * v\n",
    "        u_sum += u ** 2\n",
    "        v_sum += v ** 2\n",
    "    denominator = math.sqrt(u_sum) * math.sqrt(v_sum)\n",
    "    sim = round(numerator / denominator, 3)\n",
    "    sims[col] = sim\n",
    "sims = dict(sorted(sims.items(), key = lambda x: x[1], reverse = True))\n",
    "max_sims = dict(list(sims.items())[:4])\n",
    "print(max_sims)"
   ]
  },
  {
   "cell_type": "code",
   "execution_count": 5,
   "metadata": {
    "tags": []
   },
   "outputs": [
    {
     "output_type": "stream",
     "name": "stdout",
     "text": [
      "{0: 2.952, 1: 3.292, 2: 2.8, 3: 3.143, 4: 3.308, 5: 3.16, 6: 2.88, 7: 3.292, 8: 2.808, 9: 2.72, 10: 3.125, 11: 3.846, 12: 3.154, 13: 3.0, 14: 3.375, 15: 3.407, 16: 3.0, 17: 2.704, 18: 3.125, 19: 3.182, 20: 2.96, 21: 3.217, 22: 3.391, 23: 2.815, 24: 2.76, 25: 2.92, 26: 3.333, 27: 2.923, 28: 3.2, 29: 2.964, 30: 3.074, 31: 3.0, 32: 2.769, 33: 3.042, 34: 3.174, 35: 3.125, 36: 3.25, 37: 3.0, 38: 2.68, 39: 2.963}\n"
     ]
    }
   ],
   "source": [
    "#поиск средних оценок пользователей\n",
    "avg = {}\n",
    "for col in tr_data:\n",
    "    avg[col] = round(tr_data[col][tr_data[col] != no_rate].mean(), 3)\n",
    "print(avg)\n"
   ]
  },
  {
   "cell_type": "code",
   "execution_count": 6,
   "metadata": {},
   "outputs": [
    {
     "output_type": "stream",
     "name": "stdout",
     "text": [
      "{'Movie 2': 2.275, 'Movie 5': 3.785, 'Movie 6': 3.118, 'Movie 8': 3.982, 'Movie 10': 1.78, 'Movie 17': 3.783, 'Movie 21': 2.737, 'Movie 25': 3.278}\n"
     ]
    }
   ],
   "source": [
    "#рассчёт оценок неоцененных фильмов\n",
    "rates = {}\n",
    "for movie in not_rated_movies:\n",
    "    numer = 0\n",
    "    denom = 0\n",
    "    sim_sum_abs = 0\n",
    "    for user in max_sims.keys():\n",
    "        #если кто-то из ближайших 4х соседей не оценил фильм - берем следующего\n",
    "        if (tr_data.loc[movie, user] == no_rate):\n",
    "            continue\n",
    "        sim_sum_abs += abs(max_sims[user])\n",
    "        numer += max_sims[user] * (tr_data.loc[movie, user] - avg[user])\n",
    "    rate = round(avg[my_user_number] + numer / sim_sum_abs, 3)\n",
    "    rates[movie] = rate\n",
    "print(rates)"
   ]
  },
  {
   "cell_type": "code",
   "execution_count": 7,
   "metadata": {},
   "outputs": [
    {
     "output_type": "stream",
     "name": "stdout",
     "text": [
      "{'Movie 2': [33, 29, 17, 7], 'Movie 5': [1, 34, 11, 20, 28], 'Movie 6': [3, 28], 'Movie 8': [17, 12], 'Movie 10': [33, 29, 21], 'Movie 17': [8, 24], 'Movie 21': [27, 14], 'Movie 25': [28, 39]}\n"
     ]
    }
   ],
   "source": [
    "#ключ - фильм, который не посмотрел пользователь\n",
    "#значение - список пользователей, которые посмотрели фильм в выходной дома\n",
    "rec_movies = {}\n",
    "for movie in not_rated_movies:\n",
    "    home_viewers = df_place[df_place[movie] == home].index.tolist()\n",
    "    weekend_movies = df_day[(df_day[movie] == saturday) | (df_day[movie] == sunday)].index.tolist()\n",
    "    rec_movies[movie] = list(set(home_viewers) & set(weekend_movies))\n",
    "print(rec_movies)"
   ]
  },
  {
   "cell_type": "code",
   "execution_count": 8,
   "metadata": {},
   "outputs": [
    {
     "output_type": "stream",
     "name": "stdout",
     "text": [
      "{'Movie 2': -0.855, 'Movie 5': 0.583, 'Movie 6': 0.987, 'Movie 8': -1.217, 'Movie 10': -0.231, 'Movie 17': -0.585, 'Movie 21': 1.414, 'Movie 25': -0.745}\nMovie 21\n"
     ]
    }
   ],
   "source": [
    "#поиск рекоммендуемого фильма\n",
    "recs = {}\n",
    "for movie in rec_movies.keys():\n",
    "    avg_rate = 0\n",
    "    for user in rec_movies[movie]:\n",
    "        avg_rate += (avg[user] - tr_data.loc[movie, user]) * sims[user]\n",
    "    if(len(rec_movies[movie]) != 0):\n",
    "        avg_rate = round(avg_rate / len(rec_movies[movie]), 3)\n",
    "        recs[movie] = avg_rate   \n",
    "    else:\n",
    "        recs[movie] = float('-inf')\n",
    "print(recs)\n",
    "rec_film = max(recs, key=recs.get)\n",
    "print(rec_film)"
   ]
  },
  {
   "cell_type": "code",
   "execution_count": 9,
   "metadata": {},
   "outputs": [
    {
     "output_type": "stream",
     "name": "stdout",
     "text": [
      "{'user': 20, 'part_1': {'Movie 2': 2.275, 'Movie 5': 3.785, 'Movie 6': 3.118, 'Movie 8': 3.982, 'Movie 10': 1.78, 'Movie 17': 3.783, 'Movie 21': 2.737, 'Movie 25': 3.278}, 'part_2': 'Movie 21'}\n"
     ]
    }
   ],
   "source": [
    "data ={}\n",
    "result = json.dumps({'user': my_user_number + 1,'part_1': rates, '2': rec_film}, indent = 4)\n",
    "result = {\n",
    "    'user': my_user_number + 1,\n",
    "    'part_1': rates,\n",
    "    'part_2': rec_film\n",
    "}\n",
    "with open('result.json', 'w') as outfile:\n",
    "    json.dump(result, outfile, indent = 4)\n",
    "print(result)"
   ]
  },
  {
   "cell_type": "code",
   "execution_count": 10,
   "metadata": {},
   "outputs": [
    {
     "output_type": "execute_result",
     "data": {
      "text/plain": [
       "{'Movie 2': 'The Godfather',\n",
       " 'Movie 5': '12 Angry Men',\n",
       " 'Movie 6': \"Schindler's List\",\n",
       " 'Movie 8': 'Pulp Fiction',\n",
       " 'Movie 10': 'Fight Club',\n",
       " 'Movie 17': 'Goodfellas',\n",
       " 'Movie 21': 'Se7en',\n",
       " 'Movie 25': 'Life Is Beautiful'}"
      ]
     },
     "metadata": {},
     "execution_count": 10
    }
   ],
   "source": [
    "#task 3.2\n",
    "df = pd.read_csv(\"movie_names.csv\", delimiter=', ', header = None)\n",
    "movie_names = df.loc[df[0].isin(not_rated_movies.values)]\n",
    "movie_names = pd.Series(movie_names[1].values, index=movie_names[0]).to_dict()\n",
    "movie_names"
   ]
  },
  {
   "cell_type": "code",
   "execution_count": 11,
   "metadata": {},
   "outputs": [
    {
     "output_type": "execute_result",
     "data": {
      "text/plain": [
       "{'Movie 2': 'Q47703',\n",
       " 'Movie 5': 'Q2345',\n",
       " 'Movie 6': 'Q483941',\n",
       " 'Movie 8': 'Q104123',\n",
       " 'Movie 10': 'Q190050',\n",
       " 'Movie 17': 'Q42047',\n",
       " 'Movie 21': 'Q190908',\n",
       " 'Movie 25': 'Q19355'}"
      ]
     },
     "metadata": {},
     "execution_count": 11
    }
   ],
   "source": [
    "API_ENDPOINT = \"https://www.wikidata.org/w/api.php\"\n",
    "\n",
    "movie_ids = {}\n",
    "for movie in movie_names:\n",
    "    expected_label = movie_names[movie]\n",
    "    params = {\n",
    "        'action' : 'wbsearchentities',\n",
    "        'format' : 'json',\n",
    "        'language' : 'en',\n",
    "        'search': expected_label\n",
    "    }\n",
    "    res = requests.get(API_ENDPOINT, params = params)\n",
    "    json_search = res.json()['search']\n",
    "    film = {}\n",
    "    for i in range(len(json_search)):\n",
    "        if \"film\" in json_search[i]['description']:\n",
    "            film = json_search[i]\n",
    "            break\n",
    "    movie_ids[movie] = film['id']\n",
    "movie_ids"
   ]
  },
  {
   "cell_type": "code",
   "execution_count": 14,
   "metadata": {
    "tags": []
   },
   "outputs": [
    {
     "output_type": "stream",
     "name": "stdout",
     "text": [
      "Movie 2 \nQuery results number: 1123 \n                                movie.value  \\\n0  http://www.wikidata.org/entity/Q1141257   \n1  http://www.wikidata.org/entity/Q1138932   \n2  http://www.wikidata.org/entity/Q1132575   \n3  http://www.wikidata.org/entity/Q1141493   \n4  http://www.wikidata.org/entity/Q1142862   \n\n                       movieLabel.value  \n0  I Married a Monster from Outer Space  \n1                              Grease 2  \n2            An Officer and a Gentleman  \n3                           The Heiress  \n4                             King Kong   \n\nMovie 5 \nQuery results number: 0\n\nMovie 6 \nQuery results number: 101 \n                               movie.value            movieLabel.value\n0   http://www.wikidata.org/entity/Q32433                     Lincoln\n1   http://www.wikidata.org/entity/Q11621  E.T. the Extra-Terrestrial\n2   http://www.wikidata.org/entity/Q45839         Memoirs of a Geisha\n3   http://www.wikidata.org/entity/Q51416                Men in Black\n4  http://www.wikidata.org/entity/Q244604             Minority Report \n\nMovie 8 \nQuery results number: 157 \n                               movie.value                 movieLabel.value\n0  http://www.wikidata.org/entity/Q104123                     Pulp Fiction\n1  http://www.wikidata.org/entity/Q153723             Inglourious Basterds\n2  http://www.wikidata.org/entity/Q165325               Kill Bill Volume 1\n3  http://www.wikidata.org/entity/Q193835                Good Will Hunting\n4  http://www.wikidata.org/entity/Q196004  From Dusk till Dawn (franchise) \n\nMovie 10 \nQuery results number: 1144 \n                                movie.value      movieLabel.value\n0  http://www.wikidata.org/entity/Q1261289              Drumline\n1  http://www.wikidata.org/entity/Q1289046       Damnation Alley\n2  http://www.wikidata.org/entity/Q1265272              Carousel\n3  http://www.wikidata.org/entity/Q1259427            The Driver\n4  http://www.wikidata.org/entity/Q1283627  The Walls of Jericho \n\nMovie 17 \nQuery results number: 1252 \n                              movie.value    movieLabel.value\n0   http://www.wikidata.org/entity/Q2293               Chuck\n1  http://www.wikidata.org/entity/Q74315  The Maltese Falcon\n2  http://www.wikidata.org/entity/Q59653                Argo\n3  http://www.wikidata.org/entity/Q74636            Whiteout\n4  http://www.wikidata.org/entity/Q44662         42nd Street \n\nMovie 21 \nQuery results number: 266 \n                              movie.value                   movieLabel.value\n0  http://www.wikidata.org/entity/Q80379  The Hobbit: An Unexpected Journey\n1  http://www.wikidata.org/entity/Q58439       Teenage Mutant Ninja Turtles\n2  http://www.wikidata.org/entity/Q28193                      The New World\n3  http://www.wikidata.org/entity/Q32910                             Domino\n4  http://www.wikidata.org/entity/Q53703                     Drop Dead Fred \n\nMovie 25 \nQuery results number: 194 \n                               movie.value     movieLabel.value\n0   http://www.wikidata.org/entity/Q73028        Underclassman\n1   http://www.wikidata.org/entity/Q72450      Shall We Dance?\n2   http://www.wikidata.org/entity/Q35738                Frida\n3   http://www.wikidata.org/entity/Q63026  The English Patient\n4  http://www.wikidata.org/entity/Q137800            The Yards \n\n"
     ]
    }
   ],
   "source": [
    "sparql = SPARQLWrapper(\"https://query.wikidata.org/sparql\")\n",
    "\n",
    "movie_results_df = {}\n",
    "for movie in movie_ids:\n",
    "    id = movie_ids[movie]\n",
    "    sparql_query = \"\"\"\n",
    "\n",
    "select DISTINCT ?movie ?movieLabel\n",
    "WHERE {\n",
    "  {\n",
    "  SELECT ?movie WHERE {\n",
    "  wd:\"\"\" + id + \"\"\" wdt:P136 ?myGenre .\n",
    "  wd:\"\"\" + id + \"\"\" wdt:P272 ?myStudio .\n",
    "  \n",
    "  ?movie wdt:P136 ?genre filter(?myGenre != ?genre) .\n",
    "  ?movie wdt:P272 ?studio filter(?myStudio = ?studio) .\n",
    "    }\n",
    "  }\n",
    "  SERVICE wikibase:label { bd:serviceParam wikibase:language \"[AUTO_LANGUAGE],en\".} .\n",
    "}\n",
    " \n",
    "\"\"\"\n",
    "    sparql.setQuery(sparql_query)\n",
    "    sparql.setReturnFormat(JSON)\n",
    "    results = sparql.query().convert()\n",
    "    if(len(results['results']['bindings']) == 0):\n",
    "        movie_results_df[movie] = pd.DataFrame(columns=['movie', 'movieLabel'])\n",
    "    else:\n",
    "        results_df = pd.json_normalize(results['results']['bindings'])\n",
    "        movie_results_df[movie] = results_df[['movie.value', 'movieLabel.value']]\n",
    "\n",
    "for movie in movie_results_df:\n",
    "    if(len(movie_results_df[movie]) == 0):\n",
    "        print(movie,\n",
    "            \"\\nQuery results number: 0\\n\")\n",
    "    else:\n",
    "        print(\n",
    "            movie,\n",
    "            \"\\nQuery results number:\", len(movie_results_df[movie]), \"\\n\",\n",
    "            movie_results_df[movie].head(), \"\\n\"\n",
    "        )"
   ]
  },
  {
   "cell_type": "code",
   "execution_count": null,
   "metadata": {},
   "outputs": [],
   "source": []
  }
 ]
}